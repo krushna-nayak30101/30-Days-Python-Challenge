
# Create initial retail inventory (item: quantity)
inventory = {    "Jeans": 5,    "Shirts": 8,    "Kurtis": 7,    "Polo Tees": 5,    "Palazzo": 16}

# Add new item
inventory["Jackets"] = 12

# Update quantity after sales (e.g., sold some items)
inventory["Jeans"] -= 2    # Sold 2 Jeans
inventory["Shirts"] -= 3   # Sold 3 Shirts
inventory["Polo Tees"] -= 4  # Sold 4 Polo Tees

# Remove item (discontinued)
del inventory["Palazzo"]


# Print the final inventory
print("\nFinal Retail Inventory:")
for item in inventory:
    print(f"{item} - {inventory[item]}")
